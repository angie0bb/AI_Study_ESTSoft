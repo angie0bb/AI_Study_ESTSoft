{
 "cells": [
  {
   "cell_type": "code",
   "execution_count": 1,
   "metadata": {},
   "outputs": [],
   "source": [
    "import numpy as np\n",
    "import matplotlib.pyplot as plt"
   ]
  },
  {
   "cell_type": "markdown",
   "metadata": {},
   "source": [
    "# Data\n",
    "$y=ax^2+bx+c$"
   ]
  },
  {
   "cell_type": "code",
   "execution_count": 49,
   "metadata": {},
   "outputs": [
    {
     "name": "stderr",
     "output_type": "stream",
     "text": [
      "No artists with labels found to put in legend.  Note that artists whose label start with an underscore are ignored when legend() is called with no argument.\n"
     ]
    },
    {
     "data": {
      "image/png": "[encoded data removed]",
      "text/plain": [
       "<Figure size 640x480 with 1 Axes>"
      ]
     },
     "metadata": {},
     "output_type": "display_data"
    }
   ],
   "source": [
    "f = lambda x: x**2 + x*4 + 5.0 # 2x + 1 \n",
    "noise = 0.1\n",
    "xs = np.random.rand(1000, 1)   # 1000 points\n",
    "ys = f(xs) + noise*np.random.randn(1000, 1) # 노이즈 추가 \n",
    "\n",
    "plt.title(\"Dataset\")\n",
    "plt.scatter(xs, ys, s=1)\n",
    "#plt.plot(xs, f(xs), label=f\"y = x^2 + 4x + 5\")\n",
    "plt.legend()\n",
    "plt.show()"
   ]
  },
  {
   "cell_type": "markdown",
   "metadata": {},
   "source": [
    "# Model\n",
    "\n",
    "* A model is a mathematical function $f_{\\theta}:\\mathbb R\\rightarrow \\mathbb R$ with some parameters $\\theta=\\{a, b\\}$.\n",
    "* We need:\n",
    "  * a function $f$,\n",
    "  * a way to set and get parameters,\n",
    "  * a way to process a bunch (called a batch) of inputs."
   ]
  },
  {
   "cell_type": "code",
   "execution_count": 20,
   "metadata": {},
   "outputs": [],
   "source": [
    "class Module:\n",
    "  def __init__(self) -> None:\n",
    "    raise NotImplementedError\n",
    "\n",
    "  def set_params(self) -> None:\n",
    "    raise NotImplementedError\n",
    "  \n",
    "  def get_params(self) -> dict:\n",
    "    raise NotImplementedError\n",
    "  \n",
    "  def forward(self, x:np.array) -> np.array:\n",
    "    raise NotImplementedError\n",
    "  \n",
    "  def __call__(self, x:np.array) -> np.array:\n",
    "    return self.forward(x)"
   ]
  },
  {
   "cell_type": "code",
   "execution_count": 21,
   "metadata": {},
   "outputs": [],
   "source": [
    "class LinearModel(Module): \n",
    "  def __init__(self, w:float=.0, b:float=.0) -> None:\n",
    "    self.set_params(w, b)\n",
    "\n",
    "  def set_params(self, w:float, b:float) -> None:\n",
    "    self.w = w\n",
    "    self.b = b\n",
    "\n",
    "  def get_params(self) -> dict[str,float]:\n",
    "    return {'w': self.w, 'b':self.b}\n",
    "\n",
    "  def forward(self, x:np.array) -> np.array:\n",
    "    params = self.get_params()\n",
    "    w = params.get('w')\n",
    "    b = params.get('b')\n",
    "    return w * x + b"
   ]
  },
  {
   "cell_type": "code",
   "execution_count": 22,
   "metadata": {},
   "outputs": [],
   "source": [
    "class PolynomialModel(Module): # Polynomial\n",
    "\n",
    "  # Initialize Polynomial model (y = w1_x^2 + w2_x + b)\n",
    "  def __init__(self, w1:float=.0, w2:float=.0, b:float=.0) -> None:\n",
    "    self.set_params(w1,w2,b)\n",
    "\n",
    "  def set_params(self, w1:float, w2:float, b:float) -> None:\n",
    "    self.w1 = w1\n",
    "    self.w2 = w2\n",
    "    self.b = b\n",
    "\n",
    "  def get_params(self) -> dict[str,float]:\n",
    "    return {'w1': self.w1, 'w2': self.w2, 'b':self.b}\n",
    "\n",
    "  def forward(self, x:np.array) -> np.array:\n",
    "    params = self.get_params()\n",
    "    w1 = params.get('w1')\n",
    "    w2 = params.get('w2')\n",
    "    b = params.get('b')\n",
    "    return w1 * (x**2) + w2*x  + b"
   ]
  },
  {
   "cell_type": "code",
   "execution_count": 23,
   "metadata": {},
   "outputs": [],
   "source": [
    "def mse(y_hat:np.array, y_true:np.array) -> float:\n",
    "  # y_hat: predicted value\n",
    "  # y_true: true value\n",
    "  assert len(y_hat) == len(y_true)\n",
    "  return ((y_hat - y_true)**2).mean()"
   ]
  },
  {
   "cell_type": "code",
   "execution_count": 6,
   "metadata": {},
   "outputs": [],
   "source": [
    "pol = PolynomialModel(1,4,5) # "
   ]
  },
  {
   "cell_type": "code",
   "execution_count": 24,
   "metadata": {},
   "outputs": [
    {
     "data": {
      "text/plain": [
       "0.0"
      ]
     },
     "execution_count": 24,
     "metadata": {},
     "output_type": "execute_result"
    }
   ],
   "source": [
    "mse(pol(xs), ys)"
   ]
  },
  {
   "cell_type": "markdown",
   "metadata": {},
   "source": [
    "$$\\frac{\\partial}{\\partial w_1} \\operatorname{MSE}_{\\theta}(x,y) = \\frac{2}{n}\\sum^n_{i=1}x_i^2(x^2w_1+x_iw_2+b - y_i)=\\frac{2}{n}\\sum^n_{i=1}x_i^2(\\hat y_i - y_i).$$\n",
    "\n",
    "$$\\frac{\\partial}{\\partial w_2} \\operatorname{MSE}_{\\theta}(x,y) = \\frac{2}{n}\\sum^n_{i=1}x_i(x^2w_1+x_iw_2+b - y_i)=\\frac{2}{n}\\sum^n_{i=1}x_i(\\hat y_i - y_i).$$\n",
    "\n",
    "$$\\frac{\\partial}{\\partial b} \\operatorname{MSE}_{\\theta}(x,y) = \\frac{2}{n}\\sum^n_{i=1}(x_iw+b - y_i)= \\frac{2}{n}\\sum^n_{i=1}(\\hat y_i - y_i).$$"
   ]
  },
  {
   "cell_type": "code",
   "execution_count": 33,
   "metadata": {},
   "outputs": [],
   "source": [
    "def grad_mse(model:Module, x:np.array, y_true:np.array) -> dict[str,float]:\n",
    "  assert len(x) == len(y_true)\n",
    "  n = len(x)\n",
    "  y_hat = model(x)\n",
    "  d_w1 = 2*((x**2)*(y_hat-y_true)).mean() \n",
    "  d_w2 = 2*(x*(y_hat-y_true)).mean()\n",
    "  d_b = 2*(y_hat-y_true).mean()\n",
    "  return {'d_w1': d_w1, 'd_w2':d_w2, 'd_b':d_b}"
   ]
  },
  {
   "cell_type": "code",
   "execution_count": 26,
   "metadata": {},
   "outputs": [
    {
     "data": {
      "text/plain": [
       "{'d_w1': -5.6584614264873,\n",
       " 'd_w2': -8.075961161341377,\n",
       " 'd_b': -14.618939089866846}"
      ]
     },
     "execution_count": 26,
     "metadata": {},
     "output_type": "execute_result"
    }
   ],
   "source": [
    "pol2 = PolynomialModel(0,0,0)\n",
    "grad_mse(pol2, xs, ys)"
   ]
  },
  {
   "cell_type": "markdown",
   "metadata": {},
   "source": [
    "* Update $\\theta=\\{w_1,w_2,b\\}$: $$\\theta_{\\textrm{new}} = \\theta_{\\textrm{old}} - \\alpha \\nabla\\operatorname{MSE}_{\\theta_{\\textrm{old}}}(x,y)$$ where $\\alpha>0$ is a learning rate."
   ]
  },
  {
   "cell_type": "code",
   "execution_count": 27,
   "metadata": {},
   "outputs": [],
   "source": [
    "def update(model:Module, lr:float, d_w1:float, d_w2:float, d_b:float) -> None:\n",
    "  params_old = model.get_params()\n",
    "  params_new = {\n",
    "    'w1': params_old.get('w1') - lr*d_w1,\n",
    "    'w2': params_old.get('w2') - lr*d_w2,\n",
    "    'b': params_old.get('b') - lr*d_b,\n",
    "  }\n",
    "  model.set_params(**params_new)"
   ]
  },
  {
   "cell_type": "code",
   "execution_count": 28,
   "metadata": {},
   "outputs": [
    {
     "data": {
      "text/plain": [
       "{'w1': 0, 'w2': 0, 'b': 0}"
      ]
     },
     "execution_count": 28,
     "metadata": {},
     "output_type": "execute_result"
    }
   ],
   "source": [
    "pol2.get_params()"
   ]
  },
  {
   "cell_type": "code",
   "execution_count": 29,
   "metadata": {},
   "outputs": [],
   "source": [
    "update(pol2, lr=0.001, **grad_mse(pol2, xs, ys))"
   ]
  },
  {
   "cell_type": "code",
   "execution_count": 30,
   "metadata": {},
   "outputs": [
    {
     "data": {
      "text/plain": [
       "{'w1': 0.0056584614264872995,\n",
       " 'w2': 0.008075961161341377,\n",
       " 'b': 0.014618939089866846}"
      ]
     },
     "execution_count": 30,
     "metadata": {},
     "output_type": "execute_result"
    }
   ],
   "source": [
    "pol2.get_params()"
   ]
  },
  {
   "cell_type": "code",
   "execution_count": 48,
   "metadata": {},
   "outputs": [
    {
     "name": "stdout",
     "output_type": "stream",
     "text": [
      "Epoch 1: mse=0.0000, w1=1.0521, w2=3.9463b=5.0096\n",
      "Epoch 2: mse=0.0000, w1=1.0520, w2=3.9463b=5.0096\n",
      "Epoch 3: mse=0.0000, w1=1.0520, w2=3.9464b=5.0096\n",
      "Epoch 4: mse=0.0000, w1=1.0519, w2=3.9465b=5.0096\n",
      "Epoch 5: mse=0.0000, w1=1.0518, w2=3.9465b=5.0096\n",
      "Epoch 6: mse=0.0000, w1=1.0518, w2=3.9466b=5.0096\n",
      "Epoch 7: mse=0.0000, w1=1.0517, w2=3.9466b=5.0095\n",
      "Epoch 8: mse=0.0000, w1=1.0517, w2=3.9467b=5.0095\n",
      "Epoch 9: mse=0.0000, w1=1.0516, w2=3.9467b=5.0095\n",
      "Epoch 10: mse=0.0000, w1=1.0516, w2=3.9468b=5.0095\n",
      "Epoch 11: mse=0.0000, w1=1.0515, w2=3.9469b=5.0095\n",
      "Epoch 12: mse=0.0000, w1=1.0515, w2=3.9469b=5.0095\n",
      "Epoch 13: mse=0.0000, w1=1.0514, w2=3.9470b=5.0095\n",
      "Epoch 14: mse=0.0000, w1=1.0514, w2=3.9470b=5.0095\n",
      "Epoch 15: mse=0.0000, w1=1.0513, w2=3.9471b=5.0095\n",
      "Epoch 16: mse=0.0000, w1=1.0512, w2=3.9471b=5.0095\n",
      "Epoch 17: mse=0.0000, w1=1.0512, w2=3.9472b=5.0094\n",
      "Epoch 18: mse=0.0000, w1=1.0511, w2=3.9473b=5.0094\n",
      "Epoch 19: mse=0.0000, w1=1.0511, w2=3.9473b=5.0094\n",
      "Epoch 20: mse=0.0000, w1=1.0510, w2=3.9474b=5.0094\n",
      "Epoch 21: mse=0.0000, w1=1.0510, w2=3.9474b=5.0094\n",
      "Epoch 22: mse=0.0000, w1=1.0509, w2=3.9475b=5.0094\n",
      "Epoch 23: mse=0.0000, w1=1.0509, w2=3.9475b=5.0094\n",
      "Epoch 24: mse=0.0000, w1=1.0508, w2=3.9476b=5.0094\n",
      "Epoch 25: mse=0.0000, w1=1.0507, w2=3.9476b=5.0094\n",
      "Epoch 26: mse=0.0000, w1=1.0507, w2=3.9477b=5.0094\n",
      "Epoch 27: mse=0.0000, w1=1.0506, w2=3.9478b=5.0093\n",
      "Epoch 28: mse=0.0000, w1=1.0506, w2=3.9478b=5.0093\n",
      "Epoch 29: mse=0.0000, w1=1.0505, w2=3.9479b=5.0093\n",
      "Epoch 30: mse=0.0000, w1=1.0505, w2=3.9479b=5.0093\n",
      "Epoch 31: mse=0.0000, w1=1.0504, w2=3.9480b=5.0093\n",
      "Epoch 32: mse=0.0000, w1=1.0504, w2=3.9480b=5.0093\n",
      "Epoch 33: mse=0.0000, w1=1.0503, w2=3.9481b=5.0093\n",
      "Epoch 34: mse=0.0000, w1=1.0503, w2=3.9481b=5.0093\n",
      "Epoch 35: mse=0.0000, w1=1.0502, w2=3.9482b=5.0093\n",
      "Epoch 36: mse=0.0000, w1=1.0502, w2=3.9483b=5.0093\n",
      "Epoch 37: mse=0.0000, w1=1.0501, w2=3.9483b=5.0092\n",
      "Epoch 38: mse=0.0000, w1=1.0500, w2=3.9484b=5.0092\n",
      "Epoch 39: mse=0.0000, w1=1.0500, w2=3.9484b=5.0092\n",
      "Epoch 40: mse=0.0000, w1=1.0499, w2=3.9485b=5.0092\n",
      "Epoch 41: mse=0.0000, w1=1.0499, w2=3.9485b=5.0092\n",
      "Epoch 42: mse=0.0000, w1=1.0498, w2=3.9486b=5.0092\n",
      "Epoch 43: mse=0.0000, w1=1.0498, w2=3.9486b=5.0092\n",
      "Epoch 44: mse=0.0000, w1=1.0497, w2=3.9487b=5.0092\n",
      "Epoch 45: mse=0.0000, w1=1.0497, w2=3.9488b=5.0092\n",
      "Epoch 46: mse=0.0000, w1=1.0496, w2=3.9488b=5.0092\n",
      "Epoch 47: mse=0.0000, w1=1.0496, w2=3.9489b=5.0091\n",
      "Epoch 48: mse=0.0000, w1=1.0495, w2=3.9489b=5.0091\n",
      "Epoch 49: mse=0.0000, w1=1.0495, w2=3.9490b=5.0091\n",
      "Epoch 50: mse=0.0000, w1=1.0494, w2=3.9490b=5.0091\n",
      "Epoch 51: mse=0.0000, w1=1.0494, w2=3.9491b=5.0091\n",
      "Epoch 52: mse=0.0000, w1=1.0493, w2=3.9491b=5.0091\n",
      "Epoch 53: mse=0.0000, w1=1.0492, w2=3.9492b=5.0091\n",
      "Epoch 54: mse=0.0000, w1=1.0492, w2=3.9492b=5.0091\n",
      "Epoch 55: mse=0.0000, w1=1.0491, w2=3.9493b=5.0091\n",
      "Epoch 56: mse=0.0000, w1=1.0491, w2=3.9494b=5.0091\n",
      "Epoch 57: mse=0.0000, w1=1.0490, w2=3.9494b=5.0090\n",
      "Epoch 58: mse=0.0000, w1=1.0490, w2=3.9495b=5.0090\n",
      "Epoch 59: mse=0.0000, w1=1.0489, w2=3.9495b=5.0090\n",
      "Epoch 60: mse=0.0000, w1=1.0489, w2=3.9496b=5.0090\n",
      "Epoch 61: mse=0.0000, w1=1.0488, w2=3.9496b=5.0090\n",
      "Epoch 62: mse=0.0000, w1=1.0488, w2=3.9497b=5.0090\n",
      "Epoch 63: mse=0.0000, w1=1.0487, w2=3.9497b=5.0090\n",
      "Epoch 64: mse=0.0000, w1=1.0487, w2=3.9498b=5.0090\n",
      "Epoch 65: mse=0.0000, w1=1.0486, w2=3.9498b=5.0090\n",
      "Epoch 66: mse=0.0000, w1=1.0486, w2=3.9499b=5.0090\n",
      "Epoch 67: mse=0.0000, w1=1.0485, w2=3.9499b=5.0090\n",
      "Epoch 68: mse=0.0000, w1=1.0485, w2=3.9500b=5.0089\n",
      "Epoch 69: mse=0.0000, w1=1.0484, w2=3.9501b=5.0089\n",
      "Epoch 70: mse=0.0000, w1=1.0484, w2=3.9501b=5.0089\n",
      "Epoch 71: mse=0.0000, w1=1.0483, w2=3.9502b=5.0089\n",
      "Epoch 72: mse=0.0000, w1=1.0483, w2=3.9502b=5.0089\n",
      "Epoch 73: mse=0.0000, w1=1.0482, w2=3.9503b=5.0089\n",
      "Epoch 74: mse=0.0000, w1=1.0482, w2=3.9503b=5.0089\n",
      "Epoch 75: mse=0.0000, w1=1.0481, w2=3.9504b=5.0089\n",
      "Epoch 76: mse=0.0000, w1=1.0480, w2=3.9504b=5.0089\n",
      "Epoch 77: mse=0.0000, w1=1.0480, w2=3.9505b=5.0089\n",
      "Epoch 78: mse=0.0000, w1=1.0479, w2=3.9505b=5.0088\n",
      "Epoch 79: mse=0.0000, w1=1.0479, w2=3.9506b=5.0088\n",
      "Epoch 80: mse=0.0000, w1=1.0478, w2=3.9506b=5.0088\n",
      "Epoch 81: mse=0.0000, w1=1.0478, w2=3.9507b=5.0088\n",
      "Epoch 82: mse=0.0000, w1=1.0477, w2=3.9507b=5.0088\n",
      "Epoch 83: mse=0.0000, w1=1.0477, w2=3.9508b=5.0088\n",
      "Epoch 84: mse=0.0000, w1=1.0476, w2=3.9509b=5.0088\n",
      "Epoch 85: mse=0.0000, w1=1.0476, w2=3.9509b=5.0088\n",
      "Epoch 86: mse=0.0000, w1=1.0475, w2=3.9510b=5.0088\n",
      "Epoch 87: mse=0.0000, w1=1.0475, w2=3.9510b=5.0088\n",
      "Epoch 88: mse=0.0000, w1=1.0474, w2=3.9511b=5.0088\n",
      "Epoch 89: mse=0.0000, w1=1.0474, w2=3.9511b=5.0087\n",
      "Epoch 90: mse=0.0000, w1=1.0473, w2=3.9512b=5.0087\n",
      "Epoch 91: mse=0.0000, w1=1.0473, w2=3.9512b=5.0087\n",
      "Epoch 92: mse=0.0000, w1=1.0472, w2=3.9513b=5.0087\n",
      "Epoch 93: mse=0.0000, w1=1.0472, w2=3.9513b=5.0087\n",
      "Epoch 94: mse=0.0000, w1=1.0471, w2=3.9514b=5.0087\n",
      "Epoch 95: mse=0.0000, w1=1.0471, w2=3.9514b=5.0087\n",
      "Epoch 96: mse=0.0000, w1=1.0470, w2=3.9515b=5.0087\n",
      "Epoch 97: mse=0.0000, w1=1.0470, w2=3.9515b=5.0087\n",
      "Epoch 98: mse=0.0000, w1=1.0469, w2=3.9516b=5.0087\n",
      "Epoch 99: mse=0.0000, w1=1.0469, w2=3.9516b=5.0086\n",
      "Epoch 100: mse=0.0000, w1=1.0468, w2=3.9517b=5.0086\n",
      "Epoch 101: mse=0.0000, w1=1.0468, w2=3.9517b=5.0086\n",
      "Epoch 102: mse=0.0000, w1=1.0467, w2=3.9518b=5.0086\n",
      "Epoch 103: mse=0.0000, w1=1.0467, w2=3.9518b=5.0086\n",
      "Epoch 104: mse=0.0000, w1=1.0466, w2=3.9519b=5.0086\n",
      "Epoch 105: mse=0.0000, w1=1.0466, w2=3.9519b=5.0086\n",
      "Epoch 106: mse=0.0000, w1=1.0465, w2=3.9520b=5.0086\n",
      "Epoch 107: mse=0.0000, w1=1.0465, w2=3.9520b=5.0086\n",
      "Epoch 108: mse=0.0000, w1=1.0464, w2=3.9521b=5.0086\n",
      "Epoch 109: mse=0.0000, w1=1.0464, w2=3.9522b=5.0086\n",
      "Epoch 110: mse=0.0000, w1=1.0463, w2=3.9522b=5.0085\n",
      "Epoch 111: mse=0.0000, w1=1.0463, w2=3.9523b=5.0085\n",
      "Epoch 112: mse=0.0000, w1=1.0462, w2=3.9523b=5.0085\n",
      "Epoch 113: mse=0.0000, w1=1.0462, w2=3.9524b=5.0085\n",
      "Epoch 114: mse=0.0000, w1=1.0461, w2=3.9524b=5.0085\n",
      "Epoch 115: mse=0.0000, w1=1.0461, w2=3.9525b=5.0085\n",
      "Epoch 116: mse=0.0000, w1=1.0460, w2=3.9525b=5.0085\n",
      "Epoch 117: mse=0.0000, w1=1.0460, w2=3.9526b=5.0085\n",
      "Epoch 118: mse=0.0000, w1=1.0459, w2=3.9526b=5.0085\n",
      "Epoch 119: mse=0.0000, w1=1.0459, w2=3.9527b=5.0085\n",
      "Epoch 120: mse=0.0000, w1=1.0458, w2=3.9527b=5.0085\n",
      "Epoch 121: mse=0.0000, w1=1.0458, w2=3.9528b=5.0084\n",
      "Epoch 122: mse=0.0000, w1=1.0457, w2=3.9528b=5.0084\n",
      "Epoch 123: mse=0.0000, w1=1.0457, w2=3.9529b=5.0084\n",
      "Epoch 124: mse=0.0000, w1=1.0456, w2=3.9529b=5.0084\n",
      "Epoch 125: mse=0.0000, w1=1.0456, w2=3.9530b=5.0084\n",
      "Epoch 126: mse=0.0000, w1=1.0455, w2=3.9530b=5.0084\n",
      "Epoch 127: mse=0.0000, w1=1.0455, w2=3.9531b=5.0084\n",
      "Epoch 128: mse=0.0000, w1=1.0454, w2=3.9531b=5.0084\n",
      "Epoch 129: mse=0.0000, w1=1.0454, w2=3.9532b=5.0084\n",
      "Epoch 130: mse=0.0000, w1=1.0453, w2=3.9532b=5.0084\n",
      "Epoch 131: mse=0.0000, w1=1.0453, w2=3.9533b=5.0084\n",
      "Epoch 132: mse=0.0000, w1=1.0452, w2=3.9533b=5.0083\n",
      "Epoch 133: mse=0.0000, w1=1.0452, w2=3.9534b=5.0083\n",
      "Epoch 134: mse=0.0000, w1=1.0452, w2=3.9534b=5.0083\n",
      "Epoch 135: mse=0.0000, w1=1.0451, w2=3.9535b=5.0083\n",
      "Epoch 136: mse=0.0000, w1=1.0451, w2=3.9535b=5.0083\n",
      "Epoch 137: mse=0.0000, w1=1.0450, w2=3.9536b=5.0083\n",
      "Epoch 138: mse=0.0000, w1=1.0450, w2=3.9536b=5.0083\n",
      "Epoch 139: mse=0.0000, w1=1.0449, w2=3.9537b=5.0083\n",
      "Epoch 140: mse=0.0000, w1=1.0449, w2=3.9537b=5.0083\n",
      "Epoch 141: mse=0.0000, w1=1.0448, w2=3.9538b=5.0083\n",
      "Epoch 142: mse=0.0000, w1=1.0448, w2=3.9538b=5.0083\n",
      "Epoch 143: mse=0.0000, w1=1.0447, w2=3.9539b=5.0083\n",
      "Epoch 144: mse=0.0000, w1=1.0447, w2=3.9539b=5.0082\n",
      "Epoch 145: mse=0.0000, w1=1.0446, w2=3.9540b=5.0082\n",
      "Epoch 146: mse=0.0000, w1=1.0446, w2=3.9540b=5.0082\n",
      "Epoch 147: mse=0.0000, w1=1.0445, w2=3.9541b=5.0082\n",
      "Epoch 148: mse=0.0000, w1=1.0445, w2=3.9541b=5.0082\n",
      "Epoch 149: mse=0.0000, w1=1.0444, w2=3.9542b=5.0082\n",
      "Epoch 150: mse=0.0000, w1=1.0444, w2=3.9542b=5.0082\n",
      "Epoch 151: mse=0.0000, w1=1.0443, w2=3.9543b=5.0082\n",
      "Epoch 152: mse=0.0000, w1=1.0443, w2=3.9543b=5.0082\n",
      "Epoch 153: mse=0.0000, w1=1.0442, w2=3.9544b=5.0082\n",
      "Epoch 154: mse=0.0000, w1=1.0442, w2=3.9544b=5.0082\n",
      "Epoch 155: mse=0.0000, w1=1.0441, w2=3.9545b=5.0081\n",
      "Epoch 156: mse=0.0000, w1=1.0441, w2=3.9545b=5.0081\n",
      "Epoch 157: mse=0.0000, w1=1.0441, w2=3.9546b=5.0081\n",
      "Epoch 158: mse=0.0000, w1=1.0440, w2=3.9546b=5.0081\n",
      "Epoch 159: mse=0.0000, w1=1.0440, w2=3.9546b=5.0081\n",
      "Epoch 160: mse=0.0000, w1=1.0439, w2=3.9547b=5.0081\n",
      "Epoch 161: mse=0.0000, w1=1.0439, w2=3.9547b=5.0081\n",
      "Epoch 162: mse=0.0000, w1=1.0438, w2=3.9548b=5.0081\n",
      "Epoch 163: mse=0.0000, w1=1.0438, w2=3.9548b=5.0081\n",
      "Epoch 164: mse=0.0000, w1=1.0437, w2=3.9549b=5.0081\n",
      "Epoch 165: mse=0.0000, w1=1.0437, w2=3.9549b=5.0081\n",
      "Epoch 166: mse=0.0000, w1=1.0436, w2=3.9550b=5.0080\n",
      "Epoch 167: mse=0.0000, w1=1.0436, w2=3.9550b=5.0080\n",
      "Epoch 168: mse=0.0000, w1=1.0435, w2=3.9551b=5.0080\n",
      "Epoch 169: mse=0.0000, w1=1.0435, w2=3.9551b=5.0080\n",
      "Epoch 170: mse=0.0000, w1=1.0434, w2=3.9552b=5.0080\n",
      "Epoch 171: mse=0.0000, w1=1.0434, w2=3.9552b=5.0080\n",
      "Epoch 172: mse=0.0000, w1=1.0434, w2=3.9553b=5.0080\n",
      "Epoch 173: mse=0.0000, w1=1.0433, w2=3.9553b=5.0080\n",
      "Epoch 174: mse=0.0000, w1=1.0433, w2=3.9554b=5.0080\n",
      "Epoch 175: mse=0.0000, w1=1.0432, w2=3.9554b=5.0080\n",
      "Epoch 176: mse=0.0000, w1=1.0432, w2=3.9555b=5.0080\n",
      "Epoch 177: mse=0.0000, w1=1.0431, w2=3.9555b=5.0080\n",
      "Epoch 178: mse=0.0000, w1=1.0431, w2=3.9556b=5.0079\n",
      "Epoch 179: mse=0.0000, w1=1.0430, w2=3.9556b=5.0079\n",
      "Epoch 180: mse=0.0000, w1=1.0430, w2=3.9557b=5.0079\n",
      "Epoch 181: mse=0.0000, w1=1.0429, w2=3.9557b=5.0079\n",
      "Epoch 182: mse=0.0000, w1=1.0429, w2=3.9558b=5.0079\n",
      "Epoch 183: mse=0.0000, w1=1.0428, w2=3.9558b=5.0079\n",
      "Epoch 184: mse=0.0000, w1=1.0428, w2=3.9558b=5.0079\n",
      "Epoch 185: mse=0.0000, w1=1.0428, w2=3.9559b=5.0079\n",
      "Epoch 186: mse=0.0000, w1=1.0427, w2=3.9559b=5.0079\n",
      "Epoch 187: mse=0.0000, w1=1.0427, w2=3.9560b=5.0079\n",
      "Epoch 188: mse=0.0000, w1=1.0426, w2=3.9560b=5.0079\n",
      "Epoch 189: mse=0.0000, w1=1.0426, w2=3.9561b=5.0079\n",
      "Epoch 190: mse=0.0000, w1=1.0425, w2=3.9561b=5.0078\n",
      "Epoch 191: mse=0.0000, w1=1.0425, w2=3.9562b=5.0078\n",
      "Epoch 192: mse=0.0000, w1=1.0424, w2=3.9562b=5.0078\n",
      "Epoch 193: mse=0.0000, w1=1.0424, w2=3.9563b=5.0078\n",
      "Epoch 194: mse=0.0000, w1=1.0423, w2=3.9563b=5.0078\n",
      "Epoch 195: mse=0.0000, w1=1.0423, w2=3.9564b=5.0078\n",
      "Epoch 196: mse=0.0000, w1=1.0422, w2=3.9564b=5.0078\n",
      "Epoch 197: mse=0.0000, w1=1.0422, w2=3.9565b=5.0078\n",
      "Epoch 198: mse=0.0000, w1=1.0422, w2=3.9565b=5.0078\n",
      "Epoch 199: mse=0.0000, w1=1.0421, w2=3.9566b=5.0078\n",
      "Epoch 200: mse=0.0000, w1=1.0421, w2=3.9566b=5.0078\n"
     ]
    }
   ],
   "source": [
    "history = [pol2.get_params()]\n",
    "\n",
    "for epoch in range(200):\n",
    "  grad = grad_mse(pol2, xs, ys)\n",
    "  update(pol2, 0.2, **grad)\n",
    "  err = mse(pol2(xs), ys)\n",
    "  params = pol2.get_params()\n",
    "  history.append(params)\n",
    "  print(f\"Epoch {epoch+1}: mse={err:.4f}, w1={params.get('w1'):.4f}, w2={params.get('w2'):.4f}b={params.get('b'):.4f}\")"
   ]
  },
  {
   "cell_type": "markdown",
   "metadata": {},
   "source": [
    "```bash\n",
    "conda activate MathAI\n",
    "pip install pandas plotly nbformat\n",
    "```"
   ]
  },
  {
   "cell_type": "code",
   "execution_count": null,
   "metadata": {},
   "outputs": [],
   "source": [
    "import plotly.express as px\n",
    "import pandas as pd\n",
    "\n",
    "df = pd.DataFrame(history, columns=['w','b'])\n",
    "df = df.set_index(df.index.set_names('epoch')).reset_index()\n",
    "df0 = df.copy()\n",
    "df1 = df.copy()\n",
    "df0['x'] = xs.min()\n",
    "df1['x'] = xs.max()\n",
    "df = pd.concat([df0, df1]).reset_index(drop=True)\n",
    "df['y'] = df.w * df.x + df.b\n",
    "\n",
    "fig = px.line(df, x='x', y='y', animation_frame=\"epoch\", width=500, height=500)\n",
    "\n",
    "fig.layout.updatemenus[0].buttons[0].args[1]['frame']['duration'] = 0.1\n",
    "fig.layout.updatemenus[0].buttons[0].args[1]['transition']['duration'] = 0.1\n",
    "fig.layout.updatemenus[0].buttons[0].args[1]['frame']['redraw'] = True\n",
    "\n",
    "fig.add_scatter(x=xs.flatten(), y=ys.flatten(), mode='markers', name='data', marker={'size':2})\n",
    "\n",
    "for i, frame in enumerate(fig.frames):\n",
    "    frame['layout']['title_text'] = f\"Prediction: y = {history[i]['w']:.4f}x{'' if history[i]['b'] < 0 else '+'}{history[i]['b']:.4f}\"\n",
    "\n",
    "fig.update_layout(template='plotly_dark')\n",
    "fig.show()"
   ]
  }
 ],
 "metadata": {
  "kernelspec": {
   "display_name": "MathAI",
   "language": "python",
   "name": "python3"
  },
  "language_info": {
   "codemirror_mode": {
    "name": "ipython",
    "version": 3
   },
   "file_extension": ".py",
   "mimetype": "text/x-python",
   "name": "python",
   "nbconvert_exporter": "python",
   "pygments_lexer": "ipython3",
   "version": "3.10.5"
  }
 },
 "nbformat": 4,
 "nbformat_minor": 2
}
